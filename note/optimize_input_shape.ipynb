{
 "cells": [
  {
   "cell_type": "code",
   "execution_count": 8,
   "metadata": {},
   "outputs": [],
   "source": [
    "import sys\n",
    "sys.path.append(\"../src\")\n",
    "from auto_play import AutoPlay\n",
    "from const import MODEL_DIR\n",
    "from train_network import train_network, update_network\n",
    "\n",
    "for i in range(5):\n",
    "    print('Train',i,'====================')\n",
    "\n",
    "    self_play = AutoPlay()\n",
    "    self_play.set_action1(\"pv_mcts\", MODEL_DIR/\"best.h5\")\n",
    "    self_play.set_action2(\"pv_mcts\", MODEL_DIR/\"best.h5\")\n",
    "    self_play.make_play_log(5, 2000, 1.0, \"Self Play\")\n",
    "\n",
    "    train_network()\n",
    "\n",
    "    # evaluate new network with previous network\n",
    "    eval_new_network = AutoPlay()\n",
    "    eval_new_network.set_action1(\"pv_mcts\", MODEL_DIR/\"best.h5\")\n",
    "    eval_new_network.set_action2(\"pv_mcts\", MODEL_DIR/\"latest.h5\")\n",
    "    win_rate = eval_new_network.calc_win_rate()\n",
    "    \n",
    "    if win_rate >= 53:\n",
    "        update_network()\n",
    "        # evaluate new network with non-model mcts\n",
    "        eval_best_player = AutoPlay()\n",
    "        eval_best_player._action1(\"pv_mcts\", MODEL_DIR/\"best.h5\")\n",
    "    \n",
    "\n"
   ]
  }
 ],
 "metadata": {
  "kernelspec": {
   "display_name": "Python 3.8.13 ('tf')",
   "language": "python",
   "name": "python3"
  },
  "language_info": {
   "codemirror_mode": {
    "name": "ipython",
    "version": 3
   },
   "file_extension": ".py",
   "mimetype": "text/x-python",
   "name": "python",
   "nbconvert_exporter": "python",
   "pygments_lexer": "ipython3",
   "version": "3.8.13"
  },
  "orig_nbformat": 4,
  "vscode": {
   "interpreter": {
    "hash": "23077f05bc5755c594de722c109a0fa7fc294e829d8842c209364e1bbf2b81a1"
   }
  }
 },
 "nbformat": 4,
 "nbformat_minor": 2
}
