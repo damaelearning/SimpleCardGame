{
 "cells": [
  {
   "cell_type": "code",
   "execution_count": 1,
   "metadata": {},
   "outputs": [
    {
     "name": "stdout",
     "output_type": "stream",
     "text": [
      "PhysicalDevice(name='/physical_device:GPU:0', device_type='GPU') memory growth: True\n",
      "PhysicalDevice(name='/physical_device:GPU:0', device_type='GPU') memory growth: True\n",
      "Train 0 ====================\n",
      "Evaluate New Network vs Old\n"
     ]
    }
   ],
   "source": [
    "import sys\n",
    "sys.path.append(\"../src\")\n",
    "from auto_play import AutoPlay\n",
    "from const import MODEL_DIR\n",
    "from train_network import train_network, update_best_player\n",
    "import tensorflow as tf\n",
    "\n",
    "\n",
    "for i in range(5):\n",
    "    print('Train',i,'====================')\n",
    "    if i != 0:\n",
    "        self_play = AutoPlay()\n",
    "        self_play.set_action1(\"pv_ismcts\", MODEL_DIR/\"best.h5\")\n",
    "        self_play.set_action2(\"pv_ismcts\", MODEL_DIR/\"best.h5\")\n",
    "        self_play.make_play_log(5, 2000, 1.0, \"Self Play\")\n",
    "\n",
    "        train_network()\n",
    "\n",
    "    # evaluate new network with previous network\n",
    "    eval_new_network = AutoPlay()\n",
    "    eval_new_network.set_action1(\"pv_ismcts\", MODEL_DIR/\"latest.h5\")\n",
    "    eval_new_network.set_action2(\"pv_ismcts\", MODEL_DIR/\"best.h5\")\n",
    "    win_rate = eval_new_network.calc_win_rate(5, 100, 0.0 ,'Evaluate New Network vs Old', True)\n",
    "    \n",
    "    if win_rate >= 0.53:\n",
    "        update_best_player()\n",
    "        # evaluate new network with non-model mcts\n",
    "        eval_best_player = AutoPlay()\n",
    "        eval_best_player.set_action1(\"pv_iscts\", MODEL_DIR/\"best.h5\")\n",
    "        eval_new_network.set_action2(\"ismcts\")\n",
    "        eval_best_player.calc_win_rate(5, 100, 0.0, 'Evaluate Best Player vs ismcts', True)\n",
    "\n",
    "    \n",
    "\n"
   ]
  }
 ],
 "metadata": {
  "kernelspec": {
   "display_name": "Python 3.8.10 ('py38tensorflow240')",
   "language": "python",
   "name": "python3"
  },
  "language_info": {
   "codemirror_mode": {
    "name": "ipython",
    "version": 3
   },
   "file_extension": ".py",
   "mimetype": "text/x-python",
   "name": "python",
   "nbconvert_exporter": "python",
   "pygments_lexer": "ipython3",
   "version": "3.8.10"
  },
  "orig_nbformat": 4,
  "vscode": {
   "interpreter": {
    "hash": "2260a4cd7e032497c826c98675324c27d8f3e97d8fd8093b4a87baa00f4613da"
   }
  }
 },
 "nbformat": 4,
 "nbformat_minor": 2
}
