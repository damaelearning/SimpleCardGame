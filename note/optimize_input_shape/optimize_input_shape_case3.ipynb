{
 "cells": [
  {
   "cell_type": "code",
   "execution_count": 1,
   "metadata": {},
   "outputs": [
    {
     "ename": "ImportError",
     "evalue": "cannot import name 'DN_INPUT_SHAPE' from 'game' (/Users/daiki/SimpleCardGame/src/game.py)",
     "output_type": "error",
     "traceback": [
      "\u001b[0;31m---------------------------------------------------------------------------\u001b[0m",
      "\u001b[0;31mImportError\u001b[0m                               Traceback (most recent call last)",
      "\u001b[1;32mセル1 を /Users/daiki/SimpleCardGame/note/optimize_input_shape/optimize_input_shape_case3.ipynb\u001b[0m in \u001b[0;36m<cell line: 13>\u001b[0;34m()\u001b[0m\n\u001b[1;32m     <a href='vscode-notebook-cell:/Users/daiki/SimpleCardGame/note/optimize_input_shape/optimize_input_shape_case3.ipynb#W0sZmlsZQ%3D%3D?line=10'>11</a>\u001b[0m \u001b[39mfrom\u001b[39;00m \u001b[39mdual_network\u001b[39;00m \u001b[39mimport\u001b[39;00m dual_network\n\u001b[1;32m     <a href='vscode-notebook-cell:/Users/daiki/SimpleCardGame/note/optimize_input_shape/optimize_input_shape_case3.ipynb#W0sZmlsZQ%3D%3D?line=11'>12</a>\u001b[0m \u001b[39mfrom\u001b[39;00m \u001b[39mauto_play\u001b[39;00m \u001b[39mimport\u001b[39;00m AutoPlay\n\u001b[0;32m---> <a href='vscode-notebook-cell:/Users/daiki/SimpleCardGame/note/optimize_input_shape/optimize_input_shape_case3.ipynb#W0sZmlsZQ%3D%3D?line=12'>13</a>\u001b[0m \u001b[39mfrom\u001b[39;00m \u001b[39mgame\u001b[39;00m \u001b[39mimport\u001b[39;00m DN_INPUT_SHAPE\n\u001b[1;32m     <a href='vscode-notebook-cell:/Users/daiki/SimpleCardGame/note/optimize_input_shape/optimize_input_shape_case3.ipynb#W0sZmlsZQ%3D%3D?line=13'>14</a>\u001b[0m \u001b[39mfrom\u001b[39;00m \u001b[39mconst\u001b[39;00m \u001b[39mimport\u001b[39;00m HISTORY_DIR, MODEL_DIR\n\u001b[1;32m     <a href='vscode-notebook-cell:/Users/daiki/SimpleCardGame/note/optimize_input_shape/optimize_input_shape_case3.ipynb#W0sZmlsZQ%3D%3D?line=14'>15</a>\u001b[0m \u001b[39mfrom\u001b[39;00m \u001b[39mtrain_network\u001b[39;00m \u001b[39mimport\u001b[39;00m train_network, update_best_player, load_data\n",
      "\u001b[0;31mImportError\u001b[0m: cannot import name 'DN_INPUT_SHAPE' from 'game' (/Users/daiki/SimpleCardGame/src/game.py)"
     ]
    }
   ],
   "source": [
    "from operator import imod\n",
    "import sys\n",
    "import os\n",
    "import tensorflow as tf\n",
    "import numpy as np\n",
    "from tensorflow.keras.callbacks import LearningRateScheduler, LambdaCallback\n",
    "from tensorflow.keras.models import load_model\n",
    "from pathlib import Path\n",
    "import platform\n",
    "sys.path.append(os.path.abspath(\"../../src\"))\n",
    "from dual_network import dual_network, DN_INPUT_SHAPE\n",
    "from auto_play import AutoPlay\n",
    "from const import HISTORY_DIR, MODEL_DIR\n",
    "from train_network import train_network, update_best_player, load_data\n",
    "\n",
    "def train_network(old_model_path, new_model_path, batch_size, epochs = 100, shape=DN_INPUT_SHAPE, \n",
    "        history_path = sorted(Path(HISTORY_DIR).glob('*.history'))[-1]):\n",
    "    if platform.system() == \"Darwin\":\n",
    "        from tensorflow.python.compiler.mlcompute import mlcompute\n",
    "        mlcompute.set_mlc_device(device_name=\"gpu\")\n",
    "    else:\n",
    "        physical_devices = tf.config.list_physical_devices('GPU')\n",
    "        if len(physical_devices) > 0:\n",
    "            for device in physical_devices:\n",
    "                tf.config.experimental.set_memory_growth(device, True)\n",
    "                print('{} memory growth: {}'.format(device, tf.config.experimental.get_memory_growth(device)))\n",
    "        else:\n",
    "            print(\"Not enough GPU hardware devices available\")\n",
    "    history = load_data(history_path)\n",
    "    input, policies, values = zip(*history)\n",
    "\n",
    "    height, width, channel = shape\n",
    "    input = np.array(input)\n",
    "    input = input.transpose(0, 2, 3, 1)\n",
    "    input = input.reshape(len(input), height, width, channel)   \n",
    "    policies = np.array(policies)\n",
    "    values = np.array(values)\n",
    "\n",
    "    model = load_model(old_model_path)\n",
    "\n",
    "    model.compile(loss=['categorical_crossentropy', 'mse'], optimizer='SGD')\n",
    "\n",
    "    def step_decay(epoch):\n",
    "        x = 0.001\n",
    "        if epoch >= 50: x = 0.0005\n",
    "        if epoch >= 80: x = 0.00025\n",
    "        return x\n",
    "    lr_decay = LearningRateScheduler(step_decay)\n",
    "\n",
    "    print_callback = LambdaCallback(\n",
    "        on_epoch_begin=lambda epoch,logs:\n",
    "                print('\\rTrain {}/{}'.format(epoch + 1,epochs), end=''))\n",
    "    \n",
    "    model.fit(input, [policies, values], batch_size=batch_size, epochs=epochs,\n",
    "            verbose=0, callbacks=[lr_decay, print_callback])\n",
    "    print('')\n",
    "\n",
    "    model.save(new_model_path)\n",
    "\n",
    "    K.clear_session()\n",
    "    del model"
   ]
  },
  {
   "cell_type": "code",
   "execution_count": 1,
   "metadata": {},
   "outputs": [
    {
     "name": "stdout",
     "output_type": "stream",
     "text": [
      "PhysicalDevice(name='/physical_device:GPU:0', device_type='GPU') memory growth: True\n",
      "Train 0 ====================\n",
      "Evaluate New Network vs Old\n",
      "Completed 100/100Win rate : 0.74\n",
      "Change BestPlayer\n",
      "Evaluate Best Player vs ismcts\n",
      "Completed 100/100Win rate : 0.08000000000000002\n",
      "Train 1 ====================\n",
      "Self Play\n",
      "Completed 36/2000"
     ]
    }
   ],
   "source": [
    "from auto_play_case2 import AutoPlayCase2\n",
    "current_dir = %pwd\n",
    "best_model = current_dir+\"/case2_best.h5\"\n",
    "latest_model = current_dir+\"/case2_latest.h5\"\n",
    "dual_network(best_model, (9, 5, 16))\n",
    "\n",
    "\n",
    "train_network(best_model, latest_model)\n",
    "\n",
    "eval_best_player = AutoPlayCase2()\n",
    "eval_best_player.action1(\"pv_ismcts\", latest_model)\n",
    "eval_best_player.action2(\"ismcts\")\n",
    "eval_best_player.calc_win_rate(5, 100, 0.0, 'Evaluate Best Player vs ismcts', True)\n",
    "\n"
   ]
  },
  {
   "cell_type": "code",
   "execution_count": 1,
   "metadata": {},
   "outputs": [
    {
     "name": "stdout",
     "output_type": "stream",
     "text": [
      "PhysicalDevice(name='/physical_device:GPU:0', device_type='GPU') memory growth: True\n",
      "Train 0 ====================\n",
      "Self Play\n",
      "Completed 2000/2000PhysicalDevice(name='/physical_device:GPU:0', device_type='GPU') memory growth: True\n",
      "Train 100/100\n",
      "Evaluate New Network vs Old\n",
      "Completed 100/100Win rate : 0.66\n",
      "Change BestPlayer\n",
      "Evaluate Best Player vs ismcts\n",
      "Completed 100/100Win rate : 0.08000000000000002\n",
      "Train 1 ====================\n",
      "Self Play\n",
      "Completed 8/2000"
     ]
    }
   ],
   "source": []
  },
  {
   "cell_type": "code",
   "execution_count": 2,
   "metadata": {},
   "outputs": [
    {
     "name": "stdout",
     "output_type": "stream",
     "text": [
      "Train 4 ====================\n",
      "Self Play\n",
      "Completed 2000/2000PhysicalDevice(name='/physical_device:GPU:0', device_type='GPU') memory growth: True\n",
      "Train 100/100\n",
      "Evaluate New Network vs Old\n",
      "Completed 100/100Win rate : 0.46\n"
     ]
    }
   ],
   "source": []
  },
  {
   "cell_type": "code",
   "execution_count": 1,
   "metadata": {},
   "outputs": [
    {
     "name": "stdout",
     "output_type": "stream",
     "text": [
      "PhysicalDevice(name='/physical_device:GPU:0', device_type='GPU') memory growth: True\n"
     ]
    },
    {
     "ename": "NameError",
     "evalue": "name 'i' is not defined",
     "output_type": "error",
     "traceback": [
      "\u001b[1;31m---------------------------------------------------------------------------\u001b[0m",
      "\u001b[1;31mNameError\u001b[0m                                 Traceback (most recent call last)",
      "\u001b[1;32m<ipython-input-1-3a7e50d1db39>\u001b[0m in \u001b[0;36m<module>\u001b[1;34m\u001b[0m\n\u001b[0;32m     11\u001b[0m \u001b[0mdual_network\u001b[0m\u001b[1;33m(\u001b[0m\u001b[0mbest_model\u001b[0m\u001b[1;33m,\u001b[0m \u001b[1;33m(\u001b[0m\u001b[1;36m9\u001b[0m\u001b[1;33m,\u001b[0m \u001b[1;36m5\u001b[0m\u001b[1;33m,\u001b[0m \u001b[1;36m16\u001b[0m\u001b[1;33m)\u001b[0m\u001b[1;33m)\u001b[0m\u001b[1;33m\u001b[0m\u001b[1;33m\u001b[0m\u001b[0m\n\u001b[0;32m     12\u001b[0m \u001b[1;33m\u001b[0m\u001b[0m\n\u001b[1;32m---> 13\u001b[1;33m \u001b[0mprint\u001b[0m\u001b[1;33m(\u001b[0m\u001b[1;34m'Train'\u001b[0m\u001b[1;33m,\u001b[0m\u001b[0mi\u001b[0m\u001b[1;33m,\u001b[0m\u001b[1;34m'===================='\u001b[0m\u001b[1;33m)\u001b[0m\u001b[1;33m\u001b[0m\u001b[1;33m\u001b[0m\u001b[0m\n\u001b[0m\u001b[0;32m     14\u001b[0m \u001b[1;33m\u001b[0m\u001b[0m\n\u001b[0;32m     15\u001b[0m \u001b[0mself_play\u001b[0m \u001b[1;33m=\u001b[0m \u001b[0mAutoPlayCase2\u001b[0m\u001b[1;33m(\u001b[0m\u001b[1;33m)\u001b[0m\u001b[1;33m\u001b[0m\u001b[1;33m\u001b[0m\u001b[0m\n",
      "\u001b[1;31mNameError\u001b[0m: name 'i' is not defined"
     ]
    }
   ],
   "source": []
  }
 ],
 "metadata": {
  "kernelspec": {
   "display_name": "Python 3.8.13 ('tf')",
   "language": "python",
   "name": "python3"
  },
  "language_info": {
   "codemirror_mode": {
    "name": "ipython",
    "version": 3
   },
   "file_extension": ".py",
   "mimetype": "text/x-python",
   "name": "python",
   "nbconvert_exporter": "python",
   "pygments_lexer": "ipython3",
   "version": "3.8.13"
  },
  "orig_nbformat": 4,
  "vscode": {
   "interpreter": {
    "hash": "23077f05bc5755c594de722c109a0fa7fc294e829d8842c209364e1bbf2b81a1"
   }
  }
 },
 "nbformat": 4,
 "nbformat_minor": 2
}
