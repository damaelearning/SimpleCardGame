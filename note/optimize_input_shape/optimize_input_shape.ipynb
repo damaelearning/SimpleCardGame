{
 "cells": [
  {
   "cell_type": "code",
   "execution_count": 1,
   "metadata": {},
   "outputs": [
    {
     "ename": "ModuleNotFoundError",
     "evalue": "No module named 'auto_play'",
     "output_type": "error",
     "traceback": [
      "\u001b[0;31m---------------------------------------------------------------------------\u001b[0m",
      "\u001b[0;31mModuleNotFoundError\u001b[0m                       Traceback (most recent call last)",
      "\u001b[1;32mセル1 を /Users/daiki/SimpleCardGame/note/optimize_input_shape/optimize_input_shape.ipynb\u001b[0m in \u001b[0;36m<cell line: 3>\u001b[0;34m()\u001b[0m\n\u001b[1;32m      <a href='vscode-notebook-cell:/Users/daiki/SimpleCardGame/note/optimize_input_shape/optimize_input_shape.ipynb#W0sZmlsZQ%3D%3D?line=0'>1</a>\u001b[0m \u001b[39mimport\u001b[39;00m \u001b[39msys\u001b[39;00m\n\u001b[1;32m      <a href='vscode-notebook-cell:/Users/daiki/SimpleCardGame/note/optimize_input_shape/optimize_input_shape.ipynb#W0sZmlsZQ%3D%3D?line=1'>2</a>\u001b[0m sys\u001b[39m.\u001b[39mpath\u001b[39m.\u001b[39mappend(\u001b[39m\"\u001b[39m\u001b[39m../src\u001b[39m\u001b[39m\"\u001b[39m)\n\u001b[0;32m----> <a href='vscode-notebook-cell:/Users/daiki/SimpleCardGame/note/optimize_input_shape/optimize_input_shape.ipynb#W0sZmlsZQ%3D%3D?line=2'>3</a>\u001b[0m \u001b[39mfrom\u001b[39;00m \u001b[39mauto_play\u001b[39;00m \u001b[39mimport\u001b[39;00m AutoPlay\n\u001b[1;32m      <a href='vscode-notebook-cell:/Users/daiki/SimpleCardGame/note/optimize_input_shape/optimize_input_shape.ipynb#W0sZmlsZQ%3D%3D?line=3'>4</a>\u001b[0m \u001b[39mfrom\u001b[39;00m \u001b[39mconst\u001b[39;00m \u001b[39mimport\u001b[39;00m MODEL_DIR\n\u001b[1;32m      <a href='vscode-notebook-cell:/Users/daiki/SimpleCardGame/note/optimize_input_shape/optimize_input_shape.ipynb#W0sZmlsZQ%3D%3D?line=4'>5</a>\u001b[0m \u001b[39mfrom\u001b[39;00m \u001b[39mtrain_network\u001b[39;00m \u001b[39mimport\u001b[39;00m train_network, update_network\n",
      "\u001b[0;31mModuleNotFoundError\u001b[0m: No module named 'auto_play'"
     ]
    }
   ],
   "source": [
    "import sys\n",
    "sys.path.append(\"../../src\")\n",
    "from auto_play import AutoPlay\n",
    "from const import MODEL_DIR\n",
    "from train_network import train_network, update_network\n",
    "\n",
    "for i in range(5):\n",
    "    print('Train',i,'====================')\n",
    "\n",
    "    self_play = AutoPlay()\n",
    "    self_play.set_action1(\"pv_mcts\", MODEL_DIR/\"best.h5\")\n",
    "    self_play.set_action2(\"pv_mcts\", MODEL_DIR/\"best.h5\")\n",
    "    self_play.make_play_log(5, 2000, 1.0, \"Self Play\")\n",
    "\n",
    "    train_network()\n",
    "\n",
    "    # evaluate new network with previous network\n",
    "    eval_new_network = AutoPlay()\n",
    "    eval_new_network.set_action1(\"pv_mcts\", MODEL_DIR/\"best.h5\")\n",
    "    eval_new_network.set_action2(\"pv_mcts\", MODEL_DIR/\"latest.h5\")\n",
    "    win_rate = eval_new_network.calc_win_rate()\n",
    "    \n",
    "    if win_rate >= 53:\n",
    "        update_network()\n",
    "        # evaluate new network with non-model mcts\n",
    "        eval_best_player = AutoPlay()\n",
    "        eval_best_player._action1(\"pv_mcts\", MODEL_DIR/\"best.h5\")\n",
    "    \n",
    "\n"
   ]
  },
  {
   "cell_type": "code",
   "execution_count": 1,
   "metadata": {},
   "outputs": [
    {
     "name": "stdout",
     "output_type": "stream",
     "text": [
      "['/Users/daiki/SimpleCardGame/note/optimize_input_shape', '/Users/daiki/.vscode/extensions/ms-toolsai.jupyter-2022.7.1102252217/pythonFiles', '/Users/daiki/.vscode/extensions/ms-toolsai.jupyter-2022.7.1102252217/pythonFiles/lib/python', '/Users/daiki/miniforge3/envs/tf/lib/python38.zip', '/Users/daiki/miniforge3/envs/tf/lib/python3.8', '/Users/daiki/miniforge3/envs/tf/lib/python3.8/lib-dynload', '', '/Users/daiki/miniforge3/envs/tf/lib/python3.8/site-packages', '/Users/daiki/SimpleCardGame/src']\n",
      "Train 0 ====================\n",
      "Self Play\n",
      "['/Users/daiki/SimpleCardGame/note/optimize_input_shape', '/Users/daiki/.vscode/extensions/ms-toolsai.jupyter-2022.7.1102252217/pythonFiles', '/Users/daiki/.vscode/extensions/ms-toolsai.jupyter-2022.7.1102252217/pythonFiles/lib/python', '/Users/daiki/miniforge3/envs/tf/lib/python38.zip', '/Users/daiki/miniforge3/envs/tf/lib/python3.8', '/Users/daiki/miniforge3/envs/tf/lib/python3.8/lib-dynload', '/Users/daiki/SimpleCardGame/note/optimize_input_shape', '/Users/daiki/miniforge3/envs/tf/lib/python3.8/site-packages', '/Users/daiki/SimpleCardGame/src']\n",
      "['/Users/daiki/SimpleCardGame/note/optimize_input_shape', '/Users/daiki/.vscode/extensions/ms-toolsai.jupyter-2022.7.1102252217/pythonFiles', '/Users/daiki/.vscode/extensions/ms-toolsai.jupyter-2022.7.1102252217/pythonFiles/lib/python', '/Users/daiki/miniforge3/envs/tf/lib/python38.zip', '/Users/daiki/miniforge3/envs/tf/lib/python3.8', '/Users/daiki/miniforge3/envs/tf/lib/python3.8/lib-dynload', '/Users/daiki/SimpleCardGame/note/optimize_input_shape', '/Users/daiki/miniforge3/envs/tf/lib/python3.8/site-packages', '/Users/daiki/SimpleCardGame/src']\n",
      "['/Users/daiki/SimpleCardGame/note/optimize_input_shape', '/Users/daiki/.vscode/extensions/ms-toolsai.jupyter-2022.7.1102252217/pythonFiles', '/Users/daiki/.vscode/extensions/ms-toolsai.jupyter-2022.7.1102252217/pythonFiles/lib/python', '/Users/daiki/miniforge3/envs/tf/lib/python38.zip', '/Users/daiki/miniforge3/envs/tf/lib/python3.8', '/Users/daiki/miniforge3/envs/tf/lib/python3.8/lib-dynload', '/Users/daiki/SimpleCardGame/note/optimize_input_shape', '/Users/daiki/miniforge3/envs/tf/lib/python3.8/site-packages', '/Users/daiki/SimpleCardGame/src']\n",
      "['/Users/daiki/SimpleCardGame/note/optimize_input_shape', '/Users/daiki/.vscode/extensions/ms-toolsai.jupyter-2022.7.1102252217/pythonFiles', '/Users/daiki/.vscode/extensions/ms-toolsai.jupyter-2022.7.1102252217/pythonFiles/lib/python', '/Users/daiki/miniforge3/envs/tf/lib/python38.zip', '/Users/daiki/miniforge3/envs/tf/lib/python3.8', '/Users/daiki/miniforge3/envs/tf/lib/python3.8/lib-dynload', '/Users/daiki/SimpleCardGame/note/optimize_input_shape', '/Users/daiki/miniforge3/envs/tf/lib/python3.8/site-packages', '/Users/daiki/SimpleCardGame/src']\n",
      "['/Users/daiki/SimpleCardGame/note/optimize_input_shape', '/Users/daiki/.vscode/extensions/ms-toolsai.jupyter-2022.7.1102252217/pythonFiles', '/Users/daiki/.vscode/extensions/ms-toolsai.jupyter-2022.7.1102252217/pythonFiles/lib/python', '/Users/daiki/miniforge3/envs/tf/lib/python38.zip', '/Users/daiki/miniforge3/envs/tf/lib/python3.8', '/Users/daiki/miniforge3/envs/tf/lib/python3.8/lib-dynload', '/Users/daiki/SimpleCardGame/note/optimize_input_shape', '/Users/daiki/miniforge3/envs/tf/lib/python3.8/site-packages', '/Users/daiki/SimpleCardGame/src']\n"
     ]
    }
   ],
   "source": [
    "import sys\n",
    "import os\n",
    "sys.path.append(os.path.abspath(\"../../src\"))\n",
    "from auto_play_case2 import AutoPlayCase2\n",
    "from dual_network import dual_network\n",
    "\n",
    "current_dir = %pwd\n",
    "best_model = current_dir+\"/case2_best.h5\"\n",
    "latest_model = current_dir+\"/case2_latest.h5\"\n",
    "dual_network(best_model, (9, 5, 16))\n",
    "\n",
    "for i in range(5):\n",
    "    print('Train',i,'====================')\n",
    "\n",
    "    self_play = AutoPlayCase2()\n",
    "    self_play.set_action1(\"pv_mcts\", best_model)\n",
    "    self_play.set_action2(\"pv_mcts\", best_model)\n",
    "    self_play.make_play_log(5, 2000, 1.0, \"Self Play\")\n",
    "\n",
    "    train_network()\n",
    "\n",
    "    # evaluate new network with previous network\n",
    "    eval_new_network = AutoPlayCase2()\n",
    "    eval_new_network.set_action1(\"pv_mcts\", latest_model)\n",
    "    eval_new_network.set_action2(\"pv_mcts\", best_model)\n",
    "    win_rate = eval_new_network.calc_win_rate(5, 100, 0.0)\n",
    "    \n",
    "    if win_rate >= 53:\n",
    "        update_network()\n",
    "        # evaluate new network with non-model mcts\n",
    "        eval_best_player = AutoPlayCase2()\n",
    "        eval_best_player.action1(\"pv_mcts\", best_model)\n",
    "        eval_best_player.action2(\"ismcts\")\n",
    "        eval_best_player.calc_win_rate(5, 100, 0.0)\n"
   ]
  }
 ],
 "metadata": {
  "kernelspec": {
   "display_name": "Python 3.8.13 ('tf')",
   "language": "python",
   "name": "python3"
  },
  "language_info": {
   "codemirror_mode": {
    "name": "ipython",
    "version": 3
   },
   "file_extension": ".py",
   "mimetype": "text/x-python",
   "name": "python",
   "nbconvert_exporter": "python",
   "pygments_lexer": "ipython3",
   "version": "3.8.13"
  },
  "orig_nbformat": 4,
  "vscode": {
   "interpreter": {
    "hash": "23077f05bc5755c594de722c109a0fa7fc294e829d8842c209364e1bbf2b81a1"
   }
  }
 },
 "nbformat": 4,
 "nbformat_minor": 2
}
