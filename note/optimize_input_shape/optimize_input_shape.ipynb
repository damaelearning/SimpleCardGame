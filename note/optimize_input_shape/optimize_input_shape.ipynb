{
 "cells": [
  {
   "cell_type": "code",
   "execution_count": 1,
   "metadata": {},
   "outputs": [
    {
     "name": "stdout",
     "output_type": "stream",
     "text": [
      "PhysicalDevice(name='/physical_device:GPU:0', device_type='GPU') memory growth: True\n"
     ]
    },
    {
     "ename": "ImportError",
     "evalue": "cannot import name 'update_network' from 'train_network' (c:\\Users\\daiki\\OneDrive\\デスクトップ\\SimpleCardGame\\SimpleCardGame\\src\\train_network.py)",
     "output_type": "error",
     "traceback": [
      "\u001b[1;31m---------------------------------------------------------------------------\u001b[0m",
      "\u001b[1;31mImportError\u001b[0m                               Traceback (most recent call last)",
      "\u001b[1;32m<ipython-input-1-241ccc1e4881>\u001b[0m in \u001b[0;36m<module>\u001b[1;34m\u001b[0m\n\u001b[0;32m      4\u001b[0m \u001b[1;32mfrom\u001b[0m \u001b[0mauto_play\u001b[0m \u001b[1;32mimport\u001b[0m \u001b[0mAutoPlay\u001b[0m\u001b[1;33m\u001b[0m\u001b[1;33m\u001b[0m\u001b[0m\n\u001b[0;32m      5\u001b[0m \u001b[1;32mfrom\u001b[0m \u001b[0mconst\u001b[0m \u001b[1;32mimport\u001b[0m \u001b[0mMODEL_DIR\u001b[0m\u001b[1;33m\u001b[0m\u001b[1;33m\u001b[0m\u001b[0m\n\u001b[1;32m----> 6\u001b[1;33m \u001b[1;32mfrom\u001b[0m \u001b[0mtrain_network\u001b[0m \u001b[1;32mimport\u001b[0m \u001b[0mtrain_network\u001b[0m\u001b[1;33m,\u001b[0m \u001b[0mupdate_network\u001b[0m\u001b[1;33m\u001b[0m\u001b[1;33m\u001b[0m\u001b[0m\n\u001b[0m\u001b[0;32m      7\u001b[0m \u001b[1;33m\u001b[0m\u001b[0m\n\u001b[0;32m      8\u001b[0m \u001b[0mcurrent_dir\u001b[0m \u001b[1;33m=\u001b[0m \u001b[0mget_ipython\u001b[0m\u001b[1;33m(\u001b[0m\u001b[1;33m)\u001b[0m\u001b[1;33m.\u001b[0m\u001b[0mrun_line_magic\u001b[0m\u001b[1;33m(\u001b[0m\u001b[1;34m'pwd'\u001b[0m\u001b[1;33m,\u001b[0m \u001b[1;34m''\u001b[0m\u001b[1;33m)\u001b[0m\u001b[1;33m\u001b[0m\u001b[1;33m\u001b[0m\u001b[0m\n",
      "\u001b[1;31mImportError\u001b[0m: cannot import name 'update_network' from 'train_network' (c:\\Users\\daiki\\OneDrive\\デスクトップ\\SimpleCardGame\\SimpleCardGame\\src\\train_network.py)"
     ]
    }
   ],
   "source": [
    "import sys\n",
    "import os\n",
    "sys.path.append(os.path.abspath(\"../../src\"))\n",
    "from auto_play import AutoPlay\n",
    "from const import MODEL_DIR\n",
    "from train_network import train_network, update_best_player\n",
    "\n",
    "current_dir = %pwd\n",
    "best_model = current_dir+\"/case1_best.h5\"\n",
    "latest_model = current_dir+\"/case1_latest.h5\"\n",
    "\n",
    "for i in range(5):\n",
    "    print('Train',i,'====================')\n",
    "\n",
    "    self_play = AutoPlay()\n",
    "    self_play.set_action1(\"pv_mcts\", best_model)\n",
    "    self_play.set_action2(\"pv_mcts\", best_model)\n",
    "    self_play.make_play_log(5, 2000, 1.0, \"Self Play\")\n",
    "\n",
    "    train_network(best_model, latest_model)\n",
    "\n",
    "    # evaluate new network with previous network\n",
    "    eval_new_network = AutoPlay()\n",
    "    eval_new_network.set_action1(\"pv_mcts\", latest_model)\n",
    "    eval_new_network.set_action2(\"pv_mcts\", best_model)\n",
    "    win_rate = eval_new_network.calc_win_rate(5, 100, 0.0 ,'Evaluate New Network vs Old', True)\n",
    "    \n",
    "    if win_rate >= 53:\n",
    "        update_best_player(best_model, latest_model)\n",
    "        # evaluate new network with non-model mcts\n",
    "        eval_best_player = AutoPlay()\n",
    "        eval_best_player.action1(\"pv_mcts\", best_model)\n",
    "        eval_best_player.action2(\"ismcts\")\n",
    "        eval_best_player.calc_win_rate(5, 100, 0.0, 'Evaluate Best Player vs ismcts', True)\n",
    "\n"
   ]
  },
  {
   "cell_type": "code",
   "execution_count": 1,
   "metadata": {},
   "outputs": [
    {
     "name": "stdout",
     "output_type": "stream",
     "text": [
      "['/Users/daiki/SimpleCardGame/note/optimize_input_shape', '/Users/daiki/.vscode/extensions/ms-toolsai.jupyter-2022.7.1102252217/pythonFiles', '/Users/daiki/.vscode/extensions/ms-toolsai.jupyter-2022.7.1102252217/pythonFiles/lib/python', '/Users/daiki/miniforge3/envs/tf/lib/python38.zip', '/Users/daiki/miniforge3/envs/tf/lib/python3.8', '/Users/daiki/miniforge3/envs/tf/lib/python3.8/lib-dynload', '', '/Users/daiki/miniforge3/envs/tf/lib/python3.8/site-packages', '/Users/daiki/SimpleCardGame/src']\n",
      "Train 0 ====================\n",
      "Self Play\n",
      "['/Users/daiki/SimpleCardGame/note/optimize_input_shape', '/Users/daiki/.vscode/extensions/ms-toolsai.jupyter-2022.7.1102252217/pythonFiles', '/Users/daiki/.vscode/extensions/ms-toolsai.jupyter-2022.7.1102252217/pythonFiles/lib/python', '/Users/daiki/miniforge3/envs/tf/lib/python38.zip', '/Users/daiki/miniforge3/envs/tf/lib/python3.8', '/Users/daiki/miniforge3/envs/tf/lib/python3.8/lib-dynload', '/Users/daiki/SimpleCardGame/note/optimize_input_shape', '/Users/daiki/miniforge3/envs/tf/lib/python3.8/site-packages', '/Users/daiki/SimpleCardGame/src']\n",
      "['/Users/daiki/SimpleCardGame/note/optimize_input_shape', '/Users/daiki/.vscode/extensions/ms-toolsai.jupyter-2022.7.1102252217/pythonFiles', '/Users/daiki/.vscode/extensions/ms-toolsai.jupyter-2022.7.1102252217/pythonFiles/lib/python', '/Users/daiki/miniforge3/envs/tf/lib/python38.zip', '/Users/daiki/miniforge3/envs/tf/lib/python3.8', '/Users/daiki/miniforge3/envs/tf/lib/python3.8/lib-dynload', '/Users/daiki/SimpleCardGame/note/optimize_input_shape', '/Users/daiki/miniforge3/envs/tf/lib/python3.8/site-packages', '/Users/daiki/SimpleCardGame/src']\n",
      "['/Users/daiki/SimpleCardGame/note/optimize_input_shape', '/Users/daiki/.vscode/extensions/ms-toolsai.jupyter-2022.7.1102252217/pythonFiles', '/Users/daiki/.vscode/extensions/ms-toolsai.jupyter-2022.7.1102252217/pythonFiles/lib/python', '/Users/daiki/miniforge3/envs/tf/lib/python38.zip', '/Users/daiki/miniforge3/envs/tf/lib/python3.8', '/Users/daiki/miniforge3/envs/tf/lib/python3.8/lib-dynload', '/Users/daiki/SimpleCardGame/note/optimize_input_shape', '/Users/daiki/miniforge3/envs/tf/lib/python3.8/site-packages', '/Users/daiki/SimpleCardGame/src']\n",
      "['/Users/daiki/SimpleCardGame/note/optimize_input_shape', '/Users/daiki/.vscode/extensions/ms-toolsai.jupyter-2022.7.1102252217/pythonFiles', '/Users/daiki/.vscode/extensions/ms-toolsai.jupyter-2022.7.1102252217/pythonFiles/lib/python', '/Users/daiki/miniforge3/envs/tf/lib/python38.zip', '/Users/daiki/miniforge3/envs/tf/lib/python3.8', '/Users/daiki/miniforge3/envs/tf/lib/python3.8/lib-dynload', '/Users/daiki/SimpleCardGame/note/optimize_input_shape', '/Users/daiki/miniforge3/envs/tf/lib/python3.8/site-packages', '/Users/daiki/SimpleCardGame/src']\n",
      "['/Users/daiki/SimpleCardGame/note/optimize_input_shape', '/Users/daiki/.vscode/extensions/ms-toolsai.jupyter-2022.7.1102252217/pythonFiles', '/Users/daiki/.vscode/extensions/ms-toolsai.jupyter-2022.7.1102252217/pythonFiles/lib/python', '/Users/daiki/miniforge3/envs/tf/lib/python38.zip', '/Users/daiki/miniforge3/envs/tf/lib/python3.8', '/Users/daiki/miniforge3/envs/tf/lib/python3.8/lib-dynload', '/Users/daiki/SimpleCardGame/note/optimize_input_shape', '/Users/daiki/miniforge3/envs/tf/lib/python3.8/site-packages', '/Users/daiki/SimpleCardGame/src']\n"
     ]
    }
   ],
   "source": [
    "import sys\n",
    "import os\n",
    "sys.path.append(os.path.abspath(\"../../src\"))\n",
    "from auto_play_case2 import AutoPlayCase2\n",
    "from dual_network import dual_network\n",
    "from train_network import train_network, update_best_player\n",
    "\n",
    "current_dir = %pwd\n",
    "best_model = current_dir+\"/case2_best.h5\"\n",
    "latest_model = current_dir+\"/case2_latest.h5\"\n",
    "dual_network(best_model, (9, 5, 16))\n",
    "\n",
    "for i in range(5):\n",
    "    print('Train',i,'====================')\n",
    "\n",
    "    self_play = AutoPlayCase2()\n",
    "    self_play.set_action1(\"pv_mcts\", best_model)\n",
    "    self_play.set_action2(\"pv_mcts\", best_model)\n",
    "    self_play.make_play_log(5, 2000, 1.0, \"Self Play\")\n",
    "\n",
    "    train_network(best_model, latest_model)\n",
    "\n",
    "    # evaluate new network with previous network\n",
    "    eval_new_network = AutoPlayCase2()\n",
    "    eval_new_network.set_action1(\"pv_mcts\", latest_model)\n",
    "    eval_new_network.set_action2(\"pv_mcts\", best_model)\n",
    "    win_rate = eval_new_network.calc_win_rate(5, 100, 0.0 ,'Evaluate New Network vs Old', True)\n",
    "    \n",
    "    if win_rate >= 53:\n",
    "        update_best_player(best_model, latest_model)\n",
    "        # evaluate new network with non-model mcts\n",
    "        eval_best_player = AutoPlayCase2()\n",
    "        eval_best_player.action1(\"pv_mcts\", best_model)\n",
    "        eval_best_player.action2(\"ismcts\")\n",
    "        eval_best_player.calc_win_rate(5, 100, 0.0, 'Evaluate Best Player vs ismcts', True)\n"
   ]
  }
 ],
 "metadata": {
  "kernelspec": {
   "display_name": "Python 3.8.10 ('py38tensorflow240')",
   "language": "python",
   "name": "python3"
  },
  "language_info": {
   "codemirror_mode": {
    "name": "ipython",
    "version": 3
   },
   "file_extension": ".py",
   "mimetype": "text/x-python",
   "name": "python",
   "nbconvert_exporter": "python",
   "pygments_lexer": "ipython3",
   "version": "3.8.10"
  },
  "orig_nbformat": 4,
  "vscode": {
   "interpreter": {
    "hash": "2260a4cd7e032497c826c98675324c27d8f3e97d8fd8093b4a87baa00f4613da"
   }
  }
 },
 "nbformat": 4,
 "nbformat_minor": 2
}
