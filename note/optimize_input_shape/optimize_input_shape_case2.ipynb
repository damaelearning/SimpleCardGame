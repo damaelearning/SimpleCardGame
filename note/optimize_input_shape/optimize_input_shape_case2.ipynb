{
 "cells": [
  {
   "cell_type": "code",
   "execution_count": 1,
   "metadata": {},
   "outputs": [
    {
     "name": "stdout",
     "output_type": "stream",
     "text": [
      "PhysicalDevice(name='/physical_device:GPU:0', device_type='GPU') memory growth: True\n",
      "Train 0 ====================\n",
      "Evaluate New Network vs Old\n",
      "Completed 100/100Win rate : 0.9\n",
      "Train 1 ====================\n",
      "Self Play\n",
      "Completed 2000/2000PhysicalDevice(name='/physical_device:GPU:0', device_type='GPU') memory growth: True\n",
      "Train 100/100\n",
      "Evaluate New Network vs Old\n",
      "Completed 100/100Win rate : 0.56\n",
      "Train 2 ====================\n",
      "Self Play\n",
      "Completed 98/2000"
     ]
    }
   ],
   "source": [
    "from operator import imod\n",
    "import sys\n",
    "import os\n",
    "import tensorflow as tf\n",
    "import numpy as np\n",
    "from tensorflow.keras.callbacks import LearningRateScheduler, LambdaCallback\n",
    "from tensorflow.keras.models import load_model\n",
    "from pathlib import Path\n",
    "import platform\n",
    "sys.path.append(os.path.abspath(\"../../src\"))\n",
    "from dual_network import dual_network\n",
    "from auto_play import AutoPlay\n",
    "from game import DN_INPUT_SHAPE\n",
    "from const import HISTORY_DIR, MODEL_DIR\n",
    "from train_network import train_network, update_best_player, load_dataS"
   ]
  },
  {
   "cell_type": "code",
   "execution_count": 1,
   "metadata": {},
   "outputs": [
    {
     "name": "stdout",
     "output_type": "stream",
     "text": [
      "PhysicalDevice(name='/physical_device:GPU:0', device_type='GPU') memory growth: True\n",
      "Train 0 ====================\n",
      "Evaluate New Network vs Old\n",
      "Completed 100/100Win rate : 0.74\n",
      "Change BestPlayer\n",
      "Evaluate Best Player vs ismcts\n",
      "Completed 100/100Win rate : 0.08000000000000002\n",
      "Train 1 ====================\n",
      "Self Play\n",
      "Completed 36/2000"
     ]
    }
   ],
   "source": [
    "from auto_play_case2 import AutoPlayCase2\n",
    "current_dir = %pwd\n",
    "best_model = current_dir+\"/case2_best.h5\"\n",
    "latest_model = current_dir+\"/case2_latest.h5\"\n",
    "dual_network(best_model, (9, 5, 16))\n",
    "\n",
    "\n",
    "train_network(best_model, latest_model)\n",
    "\n",
    "eval_best_player = AutoPlayCase2()\n",
    "eval_best_player.action1(\"pv_ismcts\", latest_model)\n",
    "eval_best_player.action2(\"ismcts\")\n",
    "eval_best_player.calc_win_rate(5, 100, 0.0, 'Evaluate Best Player vs ismcts', True)\n",
    "\n"
   ]
  },
  {
   "cell_type": "code",
   "execution_count": 1,
   "metadata": {},
   "outputs": [
    {
     "name": "stdout",
     "output_type": "stream",
     "text": [
      "PhysicalDevice(name='/physical_device:GPU:0', device_type='GPU') memory growth: True\n",
      "Train 0 ====================\n",
      "Self Play\n",
      "Completed 2000/2000PhysicalDevice(name='/physical_device:GPU:0', device_type='GPU') memory growth: True\n",
      "Train 100/100\n",
      "Evaluate New Network vs Old\n",
      "Completed 100/100Win rate : 0.66\n",
      "Change BestPlayer\n",
      "Evaluate Best Player vs ismcts\n",
      "Completed 100/100Win rate : 0.08000000000000002\n",
      "Train 1 ====================\n",
      "Self Play\n",
      "Completed 8/2000"
     ]
    }
   ],
   "source": []
  },
  {
   "cell_type": "code",
   "execution_count": 2,
   "metadata": {},
   "outputs": [
    {
     "name": "stdout",
     "output_type": "stream",
     "text": [
      "Train 4 ====================\n",
      "Self Play\n",
      "Completed 2000/2000PhysicalDevice(name='/physical_device:GPU:0', device_type='GPU') memory growth: True\n",
      "Train 100/100\n",
      "Evaluate New Network vs Old\n",
      "Completed 100/100Win rate : 0.46\n"
     ]
    }
   ],
   "source": []
  },
  {
   "cell_type": "code",
   "execution_count": 1,
   "metadata": {},
   "outputs": [
    {
     "name": "stdout",
     "output_type": "stream",
     "text": [
      "PhysicalDevice(name='/physical_device:GPU:0', device_type='GPU') memory growth: True\n"
     ]
    },
    {
     "ename": "NameError",
     "evalue": "name 'i' is not defined",
     "output_type": "error",
     "traceback": [
      "\u001b[1;31m---------------------------------------------------------------------------\u001b[0m",
      "\u001b[1;31mNameError\u001b[0m                                 Traceback (most recent call last)",
      "\u001b[1;32m<ipython-input-1-3a7e50d1db39>\u001b[0m in \u001b[0;36m<module>\u001b[1;34m\u001b[0m\n\u001b[0;32m     11\u001b[0m \u001b[0mdual_network\u001b[0m\u001b[1;33m(\u001b[0m\u001b[0mbest_model\u001b[0m\u001b[1;33m,\u001b[0m \u001b[1;33m(\u001b[0m\u001b[1;36m9\u001b[0m\u001b[1;33m,\u001b[0m \u001b[1;36m5\u001b[0m\u001b[1;33m,\u001b[0m \u001b[1;36m16\u001b[0m\u001b[1;33m)\u001b[0m\u001b[1;33m)\u001b[0m\u001b[1;33m\u001b[0m\u001b[1;33m\u001b[0m\u001b[0m\n\u001b[0;32m     12\u001b[0m \u001b[1;33m\u001b[0m\u001b[0m\n\u001b[1;32m---> 13\u001b[1;33m \u001b[0mprint\u001b[0m\u001b[1;33m(\u001b[0m\u001b[1;34m'Train'\u001b[0m\u001b[1;33m,\u001b[0m\u001b[0mi\u001b[0m\u001b[1;33m,\u001b[0m\u001b[1;34m'===================='\u001b[0m\u001b[1;33m)\u001b[0m\u001b[1;33m\u001b[0m\u001b[1;33m\u001b[0m\u001b[0m\n\u001b[0m\u001b[0;32m     14\u001b[0m \u001b[1;33m\u001b[0m\u001b[0m\n\u001b[0;32m     15\u001b[0m \u001b[0mself_play\u001b[0m \u001b[1;33m=\u001b[0m \u001b[0mAutoPlayCase2\u001b[0m\u001b[1;33m(\u001b[0m\u001b[1;33m)\u001b[0m\u001b[1;33m\u001b[0m\u001b[1;33m\u001b[0m\u001b[0m\n",
      "\u001b[1;31mNameError\u001b[0m: name 'i' is not defined"
     ]
    }
   ],
   "source": []
  }
 ],
 "metadata": {
  "kernelspec": {
   "display_name": "Python 3.8.13 ('tf')",
   "language": "python",
   "name": "python3"
  },
  "language_info": {
   "codemirror_mode": {
    "name": "ipython",
    "version": 3
   },
   "file_extension": ".py",
   "mimetype": "text/x-python",
   "name": "python",
   "nbconvert_exporter": "python",
   "pygments_lexer": "ipython3",
   "version": "3.8.13"
  },
  "orig_nbformat": 4,
  "vscode": {
   "interpreter": {
    "hash": "23077f05bc5755c594de722c109a0fa7fc294e829d8842c209364e1bbf2b81a1"
   }
  }
 },
 "nbformat": 4,
 "nbformat_minor": 2
}
